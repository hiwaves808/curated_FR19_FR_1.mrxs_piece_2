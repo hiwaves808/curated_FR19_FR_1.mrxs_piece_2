{
 "cells": [
  {
   "cell_type": "code",
   "execution_count": 16,
   "id": "72864512",
   "metadata": {},
   "outputs": [],
   "source": [
    "from PIL import Image\n",
    "import os, sys\n",
    "import numpy as np\n",
    "from PIL import Image, ImageDraw\n",
    "\n",
    "img = Image.open('FR19_FR_1.mrxs_piece_3_additional.tif')\n",
    "\n",
    "img.show()"
   ]
  },
  {
   "cell_type": "code",
   "execution_count": 17,
   "id": "a987e653",
   "metadata": {},
   "outputs": [
    {
     "name": "stdout",
     "output_type": "stream",
     "text": [
      "(10002, 3123)\n"
     ]
    }
   ],
   "source": [
    "print(img.size)"
   ]
  },
  {
   "cell_type": "code",
   "execution_count": 18,
   "id": "e7cf5669",
   "metadata": {},
   "outputs": [
    {
     "name": "stdout",
     "output_type": "stream",
     "text": [
      "TIFF (10002, 3123) RGB\n"
     ]
    }
   ],
   "source": [
    "print(img.format, img.size, img.mode)"
   ]
  },
  {
   "cell_type": "code",
   "execution_count": null,
   "id": "427e8d12",
   "metadata": {},
   "outputs": [],
   "source": [
    "\n"
   ]
  },
  {
   "cell_type": "code",
   "execution_count": 19,
   "id": "8bfd76b0",
   "metadata": {},
   "outputs": [],
   "source": [
    "with Image.open('FR19_FR_1.mrxs_piece_3_additional.tif') as image:\n",
    "    width, height = image.size"
   ]
  },
  {
   "cell_type": "code",
   "execution_count": 20,
   "id": "6db71193",
   "metadata": {},
   "outputs": [],
   "source": [
    "def main():\n",
    "    try:\n",
    "        #Relative Path\n",
    "        img = Image.open('FR19_FR_1.mrxs_piece_3_additional.tif')\n",
    "        width, height = img.size\n",
    "          \n",
    "        area = (0, 0, width/3.5, height/1)\n",
    "        img = img.crop(area)\n",
    "          \n",
    "        #Saved in the same relative location\n",
    "        img.save('curated_FR19_FR_1.mrxs_piece_3_additional.tif') \n",
    "          \n",
    "    except IOError:\n",
    "        pass\n",
    "  \n",
    "if __name__ == \"__main__\":\n",
    "    main()"
   ]
  },
  {
   "cell_type": "code",
   "execution_count": 21,
   "id": "f211029a",
   "metadata": {},
   "outputs": [],
   "source": [
    "image = Image.open('curated_FR19_FR_1.mrxs_piece_3_additional.tif')"
   ]
  },
  {
   "cell_type": "code",
   "execution_count": 22,
   "id": "a5478afd",
   "metadata": {},
   "outputs": [],
   "source": [
    "image.show()"
   ]
  },
  {
   "cell_type": "code",
   "execution_count": null,
   "id": "fb58813d",
   "metadata": {},
   "outputs": [],
   "source": []
  }
 ],
 "metadata": {
  "kernelspec": {
   "display_name": "Python 3.10.4 ('circe')",
   "language": "python",
   "name": "python3"
  },
  "language_info": {
   "codemirror_mode": {
    "name": "ipython",
    "version": 3
   },
   "file_extension": ".py",
   "mimetype": "text/x-python",
   "name": "python",
   "nbconvert_exporter": "python",
   "pygments_lexer": "ipython3",
   "version": "3.10.4"
  },
  "vscode": {
   "interpreter": {
    "hash": "70a4c5e81d9117246c12d9681eddfcc3aaec6004891a749ea0fac32ebdb96735"
   }
  }
 },
 "nbformat": 4,
 "nbformat_minor": 5
}
