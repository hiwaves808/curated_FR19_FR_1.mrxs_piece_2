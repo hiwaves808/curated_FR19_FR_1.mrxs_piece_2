{
 "cells": [
  {
   "cell_type": "code",
   "execution_count": null,
   "metadata": {},
   "outputs": [],
   "source": [
    "from PIL import Image\n",
    "import os, sys\n",
    "import numpy as np\n",
    "from PIL import Image, ImageDraw\n",
    "\n",
    "Image.MAX_IMAGE_PIXELS = None\n",
    "\n",
    "img = Image.open('/scratch/project_2000667/mapcad/turku_images_to_test/FR19/Histological_images/FR19_FR_1.mrxs_piece_3_additional.tif')\n",
    "\n",
    "print(img.size)\n",
    "\n",
    "print(img.format, img.size, img.mode)\n",
    "\n",
    "with Image.open('/scratch/project_2000667/mapcad/turku_images_to_test/FR19/Histological_images/FR19_FR_1.mrxs_piece_3_additional.tif') as image:\n",
    "    width, height = image.size\n",
    "\n",
    "def main():\n",
    "    try:\n",
    "        #Relative Path\n",
    "        img = Image.open('/scratch/project_2000667/mapcad/turku_images_to_test/FR19/Histological_images/FR19_FR_1.mrxs_piece_3_additional.tif')\n",
    "        width, height = img.size\n",
    "          \n",
    "        area = (0, 0, width/3.5, height/1)\n",
    "        img = img.crop(area)\n",
    "          \n",
    "        #Saved in the same relative location\n",
    "        img.save('/scratch/project_2000667/mapcad/curated_images/curated_FR19_FR_1.mrxs_piece_3_additional.tif') \n",
    "          \n",
    "    except IOError:\n",
    "        pass\n",
    "  \n",
    "if __name__ == \"__main__\":\n",
    "    main()\n",
    "\n"
   ]
  }
 ],
 "metadata": {
  "language_info": {
   "name": "python"
  },
  "orig_nbformat": 4
 },
 "nbformat": 4,
 "nbformat_minor": 2
}
